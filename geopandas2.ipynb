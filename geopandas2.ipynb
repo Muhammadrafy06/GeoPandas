{
  "nbformat": 4,
  "nbformat_minor": 0,
  "metadata": {
    "colab": {
      "private_outputs": true,
      "provenance": []
    },
    "kernelspec": {
      "name": "python3",
      "display_name": "Python 3"
    },
    "language_info": {
      "name": "python"
    }
  },
  "cells": [
    {
      "cell_type": "markdown",
      "source": [
        "SISTEMI DI COORDINATE E RIFERIMENTO"
      ],
      "metadata": {
        "id": "X9_lZb41wGHe"
      }
    },
    {
      "cell_type": "code",
      "source": [
        "!pip install geopandas"
      ],
      "metadata": {
        "id": "NKAsChHcwbuH"
      },
      "execution_count": null,
      "outputs": []
    },
    {
      "cell_type": "code",
      "source": [
        "%matplotlib inline\n",
        "\n",
        "import pandas as pd\n",
        "import geopandas"
      ],
      "metadata": {
        "id": "7i7tXBMCwCyA"
      },
      "execution_count": null,
      "outputs": []
    },
    {
      "cell_type": "code",
      "source": [
        "countries = geopandas.read_file(\"ne_110m_admin_0_countries.zip\")\n",
        "cities = geopandas.read_file(\"ne_110m_populated_places.zip\")\n",
        "rivers = geopandas.read_file(\"ne_50m_rivers_lake_centerlines.zip\")"
      ],
      "metadata": {
        "id": "HB36kdH5wQfX"
      },
      "execution_count": null,
      "outputs": []
    },
    {
      "cell_type": "code",
      "source": [
        "countries.crs"
      ],
      "metadata": {
        "id": "4grRh-czwZhu"
      },
      "execution_count": null,
      "outputs": []
    },
    {
      "cell_type": "code",
      "source": [
        "countries.plot()"
      ],
      "metadata": {
        "id": "8VtfLigvxBQp"
      },
      "execution_count": null,
      "outputs": []
    },
    {
      "cell_type": "markdown",
      "source": [
        "TRASFORMARE IN UN ALTRO CRS"
      ],
      "metadata": {
        "id": "tKytdMmYxDzz"
      }
    },
    {
      "cell_type": "code",
      "source": [
        "df1 = geopandas.read_file('file1')\n",
        "df2 = geopandas.read_file('file2')\n",
        "df2 = df2.to_crs(df1.crs)"
      ],
      "metadata": {
        "id": "5DxsWz3QxGZY"
      },
      "execution_count": null,
      "outputs": []
    },
    {
      "cell_type": "markdown",
      "source": [
        "esercizio 1"
      ],
      "metadata": {
        "id": "7zrk94nTxTOZ"
      }
    },
    {
      "cell_type": "code",
      "source": [
        "import geopandas as gpd\n",
        "\n",
        "districts = gpd.read_file(\"paris_districts.geojson\")\n",
        "print(districts.crs)\n",
        "districts.plot()\n",
        "area = districts.geometry.area\n",
        "print(area)\n",
        "districts_RGF93 = districts.to_crs(epsg=2154)\n",
        "districts_RGF93.plot()\n",
        "area_RGF93 = districts_RGF93.geometry.area\n",
        "print(area_RGF93)"
      ],
      "metadata": {
        "id": "0fIq5m0cxTAx"
      },
      "execution_count": null,
      "outputs": []
    },
    {
      "cell_type": "markdown",
      "source": [
        "esercizio 2"
      ],
      "metadata": {
        "id": "rm1wRWKYzKEe"
      }
    },
    {
      "cell_type": "code",
      "source": [
        "!pip install contextily"
      ],
      "metadata": {
        "id": "NEblAVKs0VAr"
      },
      "execution_count": null,
      "outputs": []
    },
    {
      "cell_type": "code",
      "source": [
        "import geopandas as gpd\n",
        "import contextily as ctx\n",
        "import matplotlib.pyplot as plt\n",
        "\n",
        "stations = gpd.read_file(\"paris_bike_stations.geojson\")\n",
        "stations_webmercator = stations.to_crs(epsg=3857)\n",
        "print(stations_webmercator)\n",
        "fig, ax = plt.subplots(figsize=(12, 6))\n",
        "stations.plot(markersize=5, ax=ax)\n",
        "ctx.add_basemap(ax)"
      ],
      "metadata": {
        "id": "zrIhjMvqzUKg"
      },
      "execution_count": null,
      "outputs": []
    }
  ]
}