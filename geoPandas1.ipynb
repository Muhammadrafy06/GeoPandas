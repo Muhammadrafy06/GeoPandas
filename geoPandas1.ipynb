{
  "nbformat": 4,
  "nbformat_minor": 0,
  "metadata": {
    "colab": {
      "private_outputs": true,
      "provenance": []
    },
    "kernelspec": {
      "name": "python3",
      "display_name": "Python 3"
    },
    "language_info": {
      "name": "python"
    }
  },
  "cells": [
    {
      "cell_type": "markdown",
      "source": [
        "importa librerie\n"
      ],
      "metadata": {
        "id": "HcT3GE2N3MWO"
      }
    },
    {
      "cell_type": "code",
      "source": [
        "!pip install folium matplotlib mapclassify\n",
        "!pip install geopandas"
      ],
      "metadata": {
        "id": "taP2FUqq4HAl"
      },
      "execution_count": null,
      "outputs": []
    },
    {
      "cell_type": "code",
      "execution_count": null,
      "metadata": {
        "id": "LmasW80f2a2-"
      },
      "outputs": [],
      "source": [
        "%matplotlib inline\n",
        "import folium\n",
        "import pandas as pd\n",
        "import geopandas as gpd\n",
        "import matplotlib"
      ]
    },
    {
      "cell_type": "code",
      "source": [],
      "metadata": {
        "id": "noXcypWbh7Ri"
      },
      "execution_count": null,
      "outputs": []
    },
    {
      "cell_type": "markdown",
      "source": [
        "importa dati geopandas"
      ],
      "metadata": {
        "id": "mC86-kvT3fzR"
      }
    },
    {
      "cell_type": "code",
      "source": [
        "countries = gpd.read_file(\"ne_110m_admin_0_countries.zip\")"
      ],
      "metadata": {
        "id": "ToXJ7ZVK3dpl"
      },
      "execution_count": null,
      "outputs": []
    },
    {
      "cell_type": "code",
      "source": [
        "countries.head()"
      ],
      "metadata": {
        "id": "q5IDRRan7Y7_"
      },
      "execution_count": null,
      "outputs": []
    },
    {
      "cell_type": "code",
      "source": [
        "countries.plot()"
      ],
      "metadata": {
        "id": "uyqY-hFv7aOj"
      },
      "execution_count": null,
      "outputs": []
    },
    {
      "cell_type": "code",
      "source": [
        "countries.explore()"
      ],
      "metadata": {
        "id": "Gk5cHe2I7bfm"
      },
      "execution_count": null,
      "outputs": []
    },
    {
      "cell_type": "markdown",
      "source": [
        "calcola la popolzione media"
      ],
      "metadata": {
        "id": "SpqgShN4-rG7"
      }
    },
    {
      "cell_type": "code",
      "source": [
        "countries['pop_est'].mean()"
      ],
      "metadata": {
        "id": "bUF3ZzlN-1EL"
      },
      "execution_count": null,
      "outputs": []
    },
    {
      "cell_type": "markdown",
      "source": [
        "oppure con la booleana"
      ],
      "metadata": {
        "id": "vQLjXF-M-2FP"
      }
    },
    {
      "cell_type": "code",
      "source": [
        "africa = countries[countries['continent'] == 'Africa']"
      ],
      "metadata": {
        "id": "r8Vhsj5v-4tn"
      },
      "execution_count": null,
      "outputs": []
    },
    {
      "cell_type": "code",
      "source": [
        "africa.plot();"
      ],
      "metadata": {
        "id": "ROfDV2PJ-5rQ"
      },
      "execution_count": null,
      "outputs": []
    },
    {
      "cell_type": "markdown",
      "source": [
        "GEOMETRIA"
      ],
      "metadata": {
        "id": "F7Jo4Zdh_GZ1"
      }
    },
    {
      "cell_type": "code",
      "source": [
        "print(countries.geometry[2])"
      ],
      "metadata": {
        "id": "aHsDw1lf-6nu"
      },
      "execution_count": null,
      "outputs": []
    },
    {
      "cell_type": "code",
      "source": [
        "cities = gpd.read_file(\"ne_110m_populated_places.zip\")"
      ],
      "metadata": {
        "id": "oSjBuvku_OW2"
      },
      "execution_count": null,
      "outputs": []
    },
    {
      "cell_type": "code",
      "source": [
        "print(cities.gpd[0])"
      ],
      "metadata": {
        "id": "siWhK6-2_PWx"
      },
      "execution_count": null,
      "outputs": []
    },
    {
      "cell_type": "code",
      "source": [
        "rivers = gpd.read_file(\"ne_50m_rivers_lake_centerlines.zip\")"
      ],
      "metadata": {
        "id": "gxX6rqsi_SCM"
      },
      "execution_count": null,
      "outputs": []
    },
    {
      "cell_type": "code",
      "source": [
        "print(rivers.geometry[0])"
      ],
      "metadata": {
        "id": "CVao1CNp_Tdk"
      },
      "execution_count": null,
      "outputs": []
    },
    {
      "cell_type": "markdown",
      "source": [
        "LIBRERIA \"SHAPELY\"\n",
        "\n",
        "\n"
      ],
      "metadata": {
        "id": "4SB74_oU_d5O"
      }
    },
    {
      "cell_type": "code",
      "source": [
        "type(countries.geometry[0])"
      ],
      "metadata": {
        "id": "ktv3-nPL_gZA"
      },
      "execution_count": null,
      "outputs": []
    },
    {
      "cell_type": "code",
      "source": [
        "from shapely.geometry import Point, Polygon, LineString"
      ],
      "metadata": {
        "id": "m3YdG0fs_lB-"
      },
      "execution_count": null,
      "outputs": []
    },
    {
      "cell_type": "code",
      "source": [
        "p = Point(0, 0)"
      ],
      "metadata": {
        "id": "i7CawMuC_mfZ"
      },
      "execution_count": null,
      "outputs": []
    },
    {
      "cell_type": "code",
      "source": [
        "print(p)"
      ],
      "metadata": {
        "id": "hJrHxSmw_nfG"
      },
      "execution_count": null,
      "outputs": []
    },
    {
      "cell_type": "code",
      "source": [
        "polygon = Polygon([(1, 1), (2,2), (2, 1)])\n"
      ],
      "metadata": {
        "id": "bOT5_FTR_oOF"
      },
      "execution_count": null,
      "outputs": []
    },
    {
      "cell_type": "code",
      "source": [
        "polygon.area\n"
      ],
      "metadata": {
        "id": "YDBb_V42_pDF"
      },
      "execution_count": null,
      "outputs": []
    },
    {
      "cell_type": "code",
      "source": [
        "polygon.distance(p)\n"
      ],
      "metadata": {
        "id": "QRAZ7fio_p2q"
      },
      "execution_count": null,
      "outputs": []
    },
    {
      "cell_type": "markdown",
      "source": [
        "PLOTTARE DIVERSE FIGURE INSIEME"
      ],
      "metadata": {
        "id": "iMsKOJJi_swf"
      }
    },
    {
      "cell_type": "code",
      "source": [
        "# fig, ax = plt.subplots(figsize=(15, 10))\n",
        "ax = countries.plot(edgecolor='k', facecolor='none', figsize=(15, 10))\n",
        "rivers.plot(ax=ax)\n",
        "cities.plot(ax=ax, color='red')\n",
        "ax.set(xlim=(-20, 60), ylim=(-40, 40))"
      ],
      "metadata": {
        "id": "CHP8FpFg_wJ7"
      },
      "execution_count": null,
      "outputs": []
    },
    {
      "cell_type": "markdown",
      "source": [
        "esercizio 1"
      ],
      "metadata": {
        "id": "HNPCaHm4mzYi"
      }
    },
    {
      "cell_type": "code",
      "source": [
        "stations = gpd.read_file(\"paris_bike_stations_mercator.gpkg\")\n",
        "type(stations)\n",
        "stations.head()"
      ],
      "metadata": {
        "id": "s-6ur1iomXdn"
      },
      "execution_count": null,
      "outputs": []
    },
    {
      "cell_type": "markdown",
      "source": [
        "esercizio 2"
      ],
      "metadata": {
        "id": "H0SEm6wcnOXZ"
      }
    },
    {
      "cell_type": "code",
      "source": [
        "import geopandas as gpd\n",
        "import matplotlib.pyplot as plt\n",
        "\n",
        "fig, ax = plt.subplots(figsize=(12, 6))\n",
        "\n",
        "stations.plot(ax=ax)"
      ],
      "metadata": {
        "id": "5oN29rt0nPlc"
      },
      "execution_count": null,
      "outputs": []
    },
    {
      "cell_type": "markdown",
      "source": [
        "esercizio 3"
      ],
      "metadata": {
        "id": "a_JaLRdoo7jc"
      }
    },
    {
      "cell_type": "code",
      "source": [
        "!pip install contextily"
      ],
      "metadata": {
        "id": "IQmiq0izpI70"
      },
      "execution_count": null,
      "outputs": []
    },
    {
      "cell_type": "code",
      "source": [
        "import geopandas as gpd\n",
        "import contextily as ctx\n",
        "import matplotlib.pyplot as plt\n",
        "\n",
        "fig, ax = plt.subplots(figsize=(12, 6))\n",
        "stations.plot(markersize=5, ax=ax)\n",
        "ctx.add_basemap(ax)\n",
        "\n",
        "\n",
        "\n",
        "plt.show()"
      ],
      "metadata": {
        "id": "uUCsLasHpC5K"
      },
      "execution_count": null,
      "outputs": []
    },
    {
      "cell_type": "markdown",
      "source": [
        "esercizio 4"
      ],
      "metadata": {
        "id": "XRMd2G4NreP0"
      }
    },
    {
      "cell_type": "code",
      "source": [
        "\n",
        "import matplotlib.pyplot as plt\n",
        "bike_stands = stations[\"bike_stands\"]\n",
        "fig, ax = plt.subplots(figsize=(12, 6))\n",
        "\n",
        "ax.hist(bike_stands, bins=20, range=(0, 100))\n",
        "\n",
        "\n",
        "\n",
        "plt.show()"
      ],
      "metadata": {
        "id": "II_zdWxWrgMS"
      },
      "execution_count": null,
      "outputs": []
    },
    {
      "cell_type": "markdown",
      "source": [
        "esercizio 5"
      ],
      "metadata": {
        "id": "QyPffxSosCIY"
      }
    },
    {
      "cell_type": "code",
      "source": [
        "fig, ax = plt.subplots(figsize=(12, 6))\n",
        "\n",
        "stations.plot(column=\"available_bikes\", legend=True, ax=ax)\n",
        "\n",
        "\n",
        "\n",
        "plt.show()"
      ],
      "metadata": {
        "id": "wjLJOUdusHrW"
      },
      "execution_count": null,
      "outputs": []
    },
    {
      "cell_type": "markdown",
      "source": [
        "esercizio 6"
      ],
      "metadata": {
        "id": "dpwzzQfPsUat"
      }
    },
    {
      "cell_type": "code",
      "source": [
        "districts = gpd.read_file(\"paris_districts_utm.geojson\")\n",
        "\n",
        "\n",
        "fig, ax = plt.subplots(figsize=(12, 6))\n",
        "\n",
        "districts.plot(ax=ax)\n",
        "\n",
        "\n",
        "plt.show()"
      ],
      "metadata": {
        "id": "fJvOkABnsWFa"
      },
      "execution_count": null,
      "outputs": []
    },
    {
      "cell_type": "markdown",
      "source": [
        "esercizio 7"
      ],
      "metadata": {
        "id": "F0yViSdcsz_y"
      }
    },
    {
      "cell_type": "code",
      "source": [
        "import shapely.geometry\n",
        "import pandas as pd\n",
        "\n",
        "\n",
        "\n",
        "districts = districts.sort_values(by=\"area\", ascending=False)\n",
        "\n",
        "print(districts.head())"
      ],
      "metadata": {
        "id": "-6G122JQs02d"
      },
      "execution_count": null,
      "outputs": []
    },
    {
      "cell_type": "markdown",
      "source": [
        "esercizio 8"
      ],
      "metadata": {
        "id": "0p0nYshktX4M"
      }
    },
    {
      "cell_type": "code",
      "source": [
        "import pandas as pd\n",
        "districts = gpd.read_file(\"paris_districts_utm.geojson\")\n",
        "districts = districts.assign(population_density=districts.population / (districts.area / 10**6))\n",
        "\n",
        "print(districts.head())"
      ],
      "metadata": {
        "id": "0OdDhvadtmtt"
      },
      "execution_count": null,
      "outputs": []
    },
    {
      "cell_type": "code",
      "source": [
        "import matplotlib.pyplot as plt\n",
        "\n",
        "fig, ax = plt.subplots(figsize=(12, 6))\n",
        "\n",
        "districts.plot(column=\"population_density\", legend=True, ax=ax)\n",
        "\n",
        "\n",
        "\n",
        "plt.show()"
      ],
      "metadata": {
        "id": "IiVicJxOuTVh"
      },
      "execution_count": null,
      "outputs": []
    }
  ]
}